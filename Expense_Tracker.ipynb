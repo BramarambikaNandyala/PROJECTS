{
  "cells": [
    {
      "cell_type": "markdown",
      "metadata": {
        "id": "view-in-github",
        "colab_type": "text"
      },
      "source": [
        "<a href=\"https://colab.research.google.com/github/BramarambikaNandyala/PROJECTS/blob/master/Expense_Tracker.ipynb\" target=\"_parent\"><img src=\"https://colab.research.google.com/assets/colab-badge.svg\" alt=\"Open In Colab\"/></a>"
      ]
    },
    {
      "cell_type": "code",
      "execution_count": null,
      "metadata": {
        "colab": {
          "background_save": true
        },
        "id": "8X2XyOKtgX6o",
        "outputId": "2bd805aa-8f93-46c8-8bfe-5b66d6ff599e"
      },
      "outputs": [
        {
          "name": "stdout",
          "output_type": "stream",
          "text": [
            "\n",
            "1. Add Expense\n",
            "2. Monthly Expenses\n",
            "3. Exit\n"
          ]
        }
      ],
      "source": [
        "import sqlite3\n",
        "from datetime import datetime\n",
        "\n",
        "class ExpenseTracker:\n",
        "    def __init__(self, db_name):\n",
        "        self.db_name = db_name\n",
        "        self.conn = sqlite3.connect(db_name)\n",
        "        self.create_table()\n",
        "\n",
        "    def create_table(self):\n",
        "        try:\n",
        "            cursor = self.conn.cursor()\n",
        "            cursor.execute('''\n",
        "                CREATE TABLE IF NOT EXISTS expenses (\n",
        "                    id INTEGER PRIMARY KEY AUTOINCREMENT,\n",
        "                    category TEXT NOT NULL,\n",
        "                    amount REAL NOT NULL,\n",
        "                    date DATE NOT NULL\n",
        "                )\n",
        "            ''')\n",
        "            self.conn.commit()\n",
        "        except sqlite3.Error as e:\n",
        "            print(f\"Error creating table: {e}\")\n",
        "\n",
        "    def add_expense(self, category, amount):\n",
        "        try:\n",
        "            cursor = self.conn.cursor()\n",
        "            date = datetime.now().date()\n",
        "            cursor.execute('''\n",
        "                INSERT INTO expenses (category, amount, date)\n",
        "                VALUES (?, ?, ?)\n",
        "            ''', (category, amount, date))\n",
        "            self.conn.commit()\n",
        "            print(\"Expense added successfully!\")\n",
        "        except sqlite3.Error as e:\n",
        "            print(f\"Error adding expense: {e}\")\n",
        "\n",
        "    def get_categories(self):\n",
        "        categories = [\"food\", \"entertainment\", \"transportation\", \"medication\"]\n",
        "        return categories\n",
        "\n",
        "    def get_monthly_expenses(self):\n",
        "        try:\n",
        "            cursor = self.conn.cursor()\n",
        "            cursor.execute('''\n",
        "                SELECT strftime('%Y-%m', date) AS month, category, COALESCE(SUM(amount), 0) AS total_amount\n",
        "                FROM expenses\n",
        "                GROUP BY month, category\n",
        "            ''')\n",
        "            rows = cursor.fetchall()\n",
        "            if not rows:\n",
        "                print(\"No expenses recorded yet.\")\n",
        "                return\n",
        "\n",
        "            # Collect unique categories and months\n",
        "            categories = self.get_categories()\n",
        "            months = sorted(set(row[0] for row in rows))\n",
        "\n",
        "            # Print expenses for each month\n",
        "            for month in months:\n",
        "                print(f\"\\nMonthly Expenses for {month}:\")\n",
        "                for category in categories:\n",
        "                    total_amount = sum(row[2] for row in rows if row[0] == month and row[1] == category)\n",
        "                    print(f\"{category}: {total_amount}\")\n",
        "        except sqlite3.Error as e:\n",
        "            print(f\"Error fetching monthly expenses: {e}\")\n",
        "\n",
        "    def close_connection(self):\n",
        "        try:\n",
        "            self.conn.close()\n",
        "            print(\"Database connection closed.\")\n",
        "        except sqlite3.Error as e:\n",
        "            print(f\"Error closing connection: {e}\")\n",
        "\n",
        "def main():\n",
        "    tracker = ExpenseTracker(\"expenses.db\")\n",
        "\n",
        "    while True:\n",
        "        print(\"\\n1. Add Expense\")\n",
        "        print(\"2. Monthly Expenses\")\n",
        "        print(\"3. Exit\")\n",
        "\n",
        "        try:\n",
        "            choice = int(input(\"Enter your choice: \"))\n",
        "\n",
        "            if choice == 1:\n",
        "                categories = tracker.get_categories()\n",
        "                print(\"Enter expense for the following categories:\")\n",
        "                for category in categories:\n",
        "                    amount_entered = False\n",
        "                    while not amount_entered:\n",
        "                        try:\n",
        "                            amount = float(input(f\"{category}: \") or 0)\n",
        "                            tracker.add_expense(category, amount)\n",
        "                            amount_entered = True  # Set flag to True after entering amount\n",
        "                        except ValueError:\n",
        "                            print(\"Invalid input. Please enter a valid amount.\")\n",
        "            elif choice == 2:\n",
        "                tracker.get_monthly_expenses()\n",
        "            elif choice == 3:\n",
        "                print(\"Exiting...\")\n",
        "                tracker.close_connection()\n",
        "                break\n",
        "            else:\n",
        "                print(\"Invalid choice. Please choose again.\")\n",
        "        except ValueError:\n",
        "            print(\"Invalid input. Please enter a number for the choice.\")\n",
        "\n",
        "if __name__ == \"__main__\":\n",
        "    main()\n"
      ]
    }
  ],
  "metadata": {
    "colab": {
      "provenance": [],
      "authorship_tag": "ABX9TyO54sOgtDpXYSO6zTbzp2Eh",
      "include_colab_link": true
    },
    "kernelspec": {
      "display_name": "Python 3",
      "name": "python3"
    },
    "language_info": {
      "name": "python"
    }
  },
  "nbformat": 4,
  "nbformat_minor": 0
}