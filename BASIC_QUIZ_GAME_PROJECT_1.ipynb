{
  "nbformat": 4,
  "nbformat_minor": 0,
  "metadata": {
    "colab": {
      "provenance": [],
      "authorship_tag": "ABX9TyNqRikuXNdEK8C1zm4I6fbh",
      "include_colab_link": true
    },
    "kernelspec": {
      "name": "python3",
      "display_name": "Python 3"
    },
    "language_info": {
      "name": "python"
    }
  },
  "cells": [
    {
      "cell_type": "markdown",
      "metadata": {
        "id": "view-in-github",
        "colab_type": "text"
      },
      "source": [
        "<a href=\"https://colab.research.google.com/github/BramarambikaNandyala/PROJECTS/blob/master/BASIC_QUIZ_GAME_PROJECT_1.ipynb\" target=\"_parent\"><img src=\"https://colab.research.google.com/assets/colab-badge.svg\" alt=\"Open In Colab\"/></a>"
      ]
    },
    {
      "cell_type": "code",
      "execution_count": null,
      "metadata": {
        "id": "9bdpq6_BALoQ"
      },
      "outputs": [],
      "source": [
        "def run_quiz(questions):\n",
        "    score = 0\n",
        "    total_questions = len(questions)\n",
        "\n",
        "    # Welcome message\n",
        "    print(\"Welcome to the Quiz!\")\n",
        "    print(\"You will be presented with\", total_questions, \"questions.\")\n",
        "    print(\"Please select the correct option (a, b, c, or d) for each question.\")\n",
        "\n",
        "    # Loop through each question\n",
        "    for i, (question, options) in enumerate(questions.items(), start=1):\n",
        "        print(\"\\nQuestion\", i, \":\", question)\n",
        "\n",
        "        # Display options for the current question\n",
        "        for key, value in options.items():\n",
        "            if key != 'correct':\n",
        "                print(key + \")\", value)\n",
        "\n",
        "        # Prompt user for their answer\n",
        "        user_answer = input(\"Your answer: \").lower()\n",
        "        correct_answer = options[\"correct\"].lower()\n",
        "\n",
        "        # Check if the user's answer is correct and provide feedback\n",
        "        if user_answer == correct_answer:\n",
        "            print(\"Correct!\")\n",
        "            score += 1\n",
        "        else:\n",
        "            print(\"Incorrect!\")\n",
        "            print(\"The correct answer is:\", correct_answer)\n",
        "\n",
        "    # Calculate percentage correct\n",
        "    percentage_correct = (score / total_questions) * 100\n",
        "\n",
        "    # Display final score and percentage correct\n",
        "    print(\"\\nQuiz completed!\")\n",
        "    print(\"Your final score is:\", score, \"out of\", total_questions)\n",
        "    print(\"Percentage correct:\", percentage_correct, \"%\")\n",
        "\n",
        "# Define quiz questions, options, and correct answers\n",
        "quiz_questions = {\n",
        "    \"What is the capital of UK?\": {\n",
        "        \"a\": \"Berlin\",\n",
        "        \"b\": \"Madrid\",\n",
        "        \"c\": \"London\",\n",
        "        \"d\": \"Rome\",\n",
        "        \"correct\": \"c\"\n",
        "    },\n",
        "    \"What is 3+2*5-10/2?\": {\n",
        "        \"a\": \"3\",\n",
        "        \"b\": \"8\",\n",
        "        \"c\": \"5\",\n",
        "        \"d\": \"6\",\n",
        "        \"correct\": \"b\"\n",
        "    },\n",
        "    \"Who wrote 'Mahabharatam'?\": {\n",
        "        \"a\": \"Tulasidas\",\n",
        "        \"b\": \"Veda Vyasa\",\n",
        "        \"c\": \"Valmiki\",\n",
        "        \"d\": \"Vishwamitra\",\n",
        "        \"correct\": \"b\"\n",
        "    },\n",
        "    \"What is the largest planet in our solar system?\": {\n",
        "        \"a\": \"Mars\",\n",
        "        \"b\": \"Jupiter\",\n",
        "        \"c\": \"Saturn\",\n",
        "        \"d\": \"Earth\",\n",
        "        \"correct\": \"b\"\n",
        "    },\n",
        "    \"Which ocean is the largest?\": {\n",
        "        \"a\": \"Atlantic Ocean\",\n",
        "        \"b\": \"Arctic Ocean\",\n",
        "        \"c\": \"Indian Ocean\",\n",
        "        \"d\": \"Pacific Ocean\",\n",
        "        \"correct\": \"d\"\n",
        "    }\n",
        "}\n",
        "\n",
        "# Run the quiz\n",
        "run_quiz(quiz_questions)\n"
      ]
    }
  ]
}